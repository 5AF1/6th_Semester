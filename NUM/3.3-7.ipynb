{
 "metadata": {
  "language_info": {
   "codemirror_mode": {
    "name": "ipython",
    "version": 3
   },
   "file_extension": ".py",
   "mimetype": "text/x-python",
   "name": "python",
   "nbconvert_exporter": "python",
   "pygments_lexer": "ipython3",
   "version": "3.8.3-final"
  },
  "orig_nbformat": 2,
  "kernelspec": {
   "name": "python3",
   "display_name": "Python 3.8.3 64-bit ('venv')",
   "metadata": {
    "interpreter": {
     "hash": "47480124c2d9f869eb284ef9aae1217f478d6e2008b12dff7b20bd9e0b2488c7"
    }
   }
  }
 },
 "nbformat": 4,
 "nbformat_minor": 2,
 "cells": [
  {
   "cell_type": "code",
   "execution_count": 1,
   "metadata": {},
   "outputs": [],
   "source": [
    "from prettytable import PrettyTable"
   ]
  },
  {
   "cell_type": "code",
   "execution_count": 3,
   "metadata": {},
   "outputs": [],
   "source": [
    "def math_expr(x):\n",
    "    return 230*x**4+18*x**3+9*x**2-221*x-9\n",
    "    #return x**3 - 0.165*x**2 + 3.993e-4\n",
    "    #return (x-1)**3 + .512\n",
    "\n",
    "\n",
    "dig = 5\n",
    "u = -1\n",
    "v = 1\n",
    "it = 50\n",
    "#u,v,it,dig\n",
    "#x 3 − 0.165x 2 + 3.993×10−4 = 0"
   ]
  },
  {
   "cell_type": "code",
   "execution_count": 4,
   "metadata": {
    "tags": []
   },
   "outputs": [],
   "source": [
    "def bisection_method(func,xl=0,xu=5,iter=10,digits = 16):\n",
    "    tab = PrettyTable()\n",
    "    acc = 0.5*10**(-digits)\n",
    "    if (func(xl)*func(xu) > 0) :\n",
    "        print(\"f(xl)*f(xu) > 0 \")\n",
    "        return\n",
    "    xm = (xl+xu)/2\n",
    "    i = 1\n",
    "    e_a = None\n",
    "    #print(\"Iter\\txl\\txu\\txm\\t|ε_a|%\\tf(xm)\")\n",
    "    tab.field_names = ['Iter','xl','f(xl)','xu','f(xu)','xm','f(xm)','|ε_a|%']\n",
    "    #print(f\"{i}\\t{xl:.5f}\\t{xu:.5f}\\t{xm:.5f}\\t{e_a}\\t{func(xm):.5g}\")\n",
    "    tab.add_row([i,\"%.5f\" % xl,\"%.5g\" % func(xl),\"%.5f\" % xu,\"%.5g\" % func(xu),\"%.5f\" % xm,\"%.5g\"% func(xm),e_a])\n",
    "    e_a = acc+1\n",
    "\n",
    "    while(i < iter and e_a > acc):\n",
    "        if func(xl)*func(xm) < 0:\n",
    "            xu = xm\n",
    "        elif func(xl)*func(xm) > 0:\n",
    "            xl = xm\n",
    "        else:\n",
    "            break\n",
    "\n",
    "        i+=1\n",
    "        xmn = (xl+xu)/2\n",
    "        e_a = abs((xmn-xm)/xmn)\n",
    "        xm = xmn\n",
    "        #print(f\"{i}\\t{xl:.5f}\\t{xu:.5f}\\t{xm:.5f}\\t{e_a*100:.5f}\\t{func(xm):.5g}\")\n",
    "        tab.add_row([i,\"%.5g\" % xl,\"%.5g\" % func(xl),\"%.5g\" % xu,\"%.5g\" % func(xu),\"%.6f\" % xm,\"%.5g\" % func(xm),\"%.5f\" % (e_a*100)])\n",
    "    \n",
    "    print(tab)\n"
   ]
  },
  {
   "cell_type": "code",
   "execution_count": 5,
   "metadata": {
    "tags": []
   },
   "outputs": [
    {
     "output_type": "stream",
     "name": "stdout",
     "text": [
      "f(xl)*f(xu) > 0 \n"
     ]
    }
   ],
   "source": [
    "bisection_method(math_expr,u,v,it,dig)"
   ]
  },
  {
   "cell_type": "code",
   "execution_count": 6,
   "metadata": {},
   "outputs": [],
   "source": [
    "def derivative(func,h=1e-5):\n",
    "    def f_prime(x):\n",
    "        return (func(x+h)-func(x))/h\n",
    "    \n",
    "    a = f_prime\n",
    "    return a\n"
   ]
  },
  {
   "cell_type": "code",
   "execution_count": 7,
   "metadata": {
    "tags": []
   },
   "outputs": [],
   "source": [
    "def newtonraphson_method(func,x=0,iter=10,digits = 16):\n",
    "    tab = PrettyTable()\n",
    "    acc = 0.5*10**(-digits)\n",
    "    i = 0\n",
    "    e_a = None\n",
    "    tab.field_names = ['Iter','x_i-1','f(x)',\"f'(x)\",'x_i','|ε_a|%']\n",
    "    #print(f\"{i}\\t{x:.5g}\\t{e_a}\\t{func(x):.5g}\")\n",
    "    fprime = derivative(func)\n",
    "    e_a = acc+1\n",
    "    while(i < iter and e_a > acc):\n",
    "        i+=1\n",
    "        xn = x - func(x)/fprime(x)\n",
    "        e_a = abs((xn-x)/xn)\n",
    "        tab.add_row([i,\"%.5g\" % x,\"%.5g\" % func(x),\"%.5g\" % fprime(x),\"%.6g\" % xn,\"%.5f\" % (e_a*100)])\n",
    "        x = xn\n",
    "        #print(f\"{i}\\t{x:.5g}\\t{e_a*100:.5g}\\t{func(x):.5g}\")\n",
    "    print(tab)\n"
   ]
  },
  {
   "cell_type": "code",
   "execution_count": 9,
   "metadata": {
    "tags": []
   },
   "outputs": [
    {
     "output_type": "stream",
     "name": "stdout",
     "text": [
      "+------+-----------+-------------+---------+------------+-----------+\n| Iter |   x_i-1   |     f(x)    |  f'(x)  |    x_i     |   |ε_a|%  |\n+------+-----------+-------------+---------+------------+-----------+\n|  1   |     -1    |     433     |  -1105  |  -0.60814  |  64.43580 |\n|  2   |  -0.60814 |    156.14   | -418.89 | -0.235397  | 158.34652 |\n|  3   |  -0.2354  |    43.993   | -234.24 | -0.0475895 | 394.64058 |\n|  4   |  -0.04759 |    1.5369   | -221.83 | -0.0406613 |  17.03879 |\n|  5   | -0.040661 |  0.00044996 |  -221.7 | -0.0406593 |  0.00499  |\n|  6   | -0.040659 | -1.4697e-10 |  -221.7 | -0.0406593 |  0.00000  |\n+------+-----------+-------------+---------+------------+-----------+\n"
     ]
    }
   ],
   "source": [
    "newtonraphson_method(math_expr,u,it,dig)"
   ]
  },
  {
   "cell_type": "code",
   "execution_count": 142,
   "metadata": {},
   "outputs": [],
   "source": [
    "def secant_method(func,x0=0,x1=5,iter=10,digits = 16):\n",
    "    tab = PrettyTable()\n",
    "    acc = 0.5*10**(-digits)\n",
    "    i = 0\n",
    "    #e_a = abs((x1-x0)/x1)\n",
    "    tab.field_names = ['Iter','x_i-1','f(x_i-1)','x_i','f(x_i)','x_i+1','f(x_i+1)','|ε_a|%']\n",
    "    #print(f\"{i}\\t{x:.5f}\\t{e_a}\\t{func(x):.5g}\")\n",
    "    #tab.add_row([i,\"%.5g\" % x0,\"%.5g\" % x1,None,\"%.5g\" % (e_a*100),None])\n",
    "    e_a = acc+1\n",
    "    while(i < iter and e_a > acc):\n",
    "        fprime = (func(x1)-func(x0))/(x1-x0)\n",
    "        i+=1\n",
    "        xn = x1 - func(x1)/fprime\n",
    "        e_a = abs((xn-x1)/xn)\n",
    "        tab.add_row([i,\"%.5g\" % x0,\"%.5g\" % func(x0),\"%.5g\" % x1,\"%.5g\" % func(x1),\"%.6g\" % xn,\"%.5g\" % func(xn),\"%.5f\" % (e_a*100)])\n",
    "        x0 = x1\n",
    "        x1 = xn\n",
    "        #print(f\"{i}\\t{x:.5f}\\t{e_a*100:.5f}\\t{func(x):.5g}\")\n",
    "    print(tab)"
   ]
  },
  {
   "cell_type": "code",
   "execution_count": 143,
   "metadata": {},
   "outputs": [
    {
     "output_type": "stream",
     "name": "stdout",
     "text": [
      "+------+---------+----------+---------+------------+----------+------------+----------+\n| Iter |  x_i-1  | f(x_i-1) |   x_i   |   f(x_i)   |  x_i+1   |  f(x_i+1)  |  |ε_a|%  |\n+------+---------+----------+---------+------------+----------+------------+----------+\n|  1   |    -1   |   433    |    1    |     27     |  1.133   |   157.35   | 11.73913 |\n|  2   |    1    |    27    |  1.133  |   157.35   | 0.972451 |   6.8352   | 16.51027 |\n|  3   |  1.133  |  157.35  | 0.97245 |   6.8352   | 0.96516  |   1.8504   | 0.75541  |\n|  4   | 0.97245 |  6.8352  | 0.96516 |   1.8504   | 0.962453 |  0.03655   | 0.28121  |\n|  5   | 0.96516 |  1.8504  | 0.96245 |  0.03655   | 0.962399 | 0.00020202 | 0.00567  |\n|  6   | 0.96245 | 0.03655  |  0.9624 | 0.00020202 | 0.962398 | 2.2261e-08 | 0.00003  |\n+------+---------+----------+---------+------------+----------+------------+----------+\n"
     ]
    }
   ],
   "source": [
    "secant_method(math_expr,u,v,it,dig)"
   ]
  },
  {
   "cell_type": "code",
   "execution_count": 144,
   "metadata": {},
   "outputs": [],
   "source": [
    "def falseposition_method(func,xl=0,xu=5,iter=10,digits = 16):\n",
    "    tab = PrettyTable()\n",
    "    acc = 0.5*10**(-digits)\n",
    "    if (func(xl)*func(xu) > 0) :\n",
    "        print(\"f(xl)*f(xu) > 0 \")\n",
    "        return\n",
    "    xm = (xu*func(xl) - xl*func(xu))/(func(xl) - func(xu))\n",
    "    i = 1\n",
    "    e_a = None\n",
    "    #print(\"Iter\\txl\\txu\\txm\\t|ε_a|%\\tf(xm)\")\n",
    "    tab.field_names = ['Iter','xl','f(xl)','xu','f(xu)','xm','f(xm)','|ε_a|%']\n",
    "    #print(f\"{i}\\t{xl:.5f}\\t{xu:.5f}\\t{xm:.5f}\\t{e_a}\\t{func(xm):.5g}\")\n",
    "    tab.add_row([i,\"%.5f\" % xl,\"%.5g\" % func(xl),\"%.5f\" % xu,\"%.5g\" % func(xu),\"%.5f\" % xm,\"%.6g\" % func(xm),e_a])\n",
    "    e_a = acc+1\n",
    "\n",
    "    while(i < iter and e_a > acc):\n",
    "        if func(xl)*func(xm) < 0:\n",
    "            xu = xm\n",
    "        elif func(xl)*func(xm) > 0:\n",
    "            xl = xm\n",
    "        else:\n",
    "            break\n",
    "\n",
    "        i+=1\n",
    "        xmn = (xu*func(xl) - xl*func(xu))/(func(xl) - func(xu))\n",
    "        e_a = abs((xmn-xm)/xmn)\n",
    "        xm = xmn\n",
    "        #print(f\"{i}\\t{xl:.5f}\\t{xu:.5f}\\t{xm:.5f}\\t{e_a*100:.5f}\\t{func(xm):.5g}\")\n",
    "        tab.add_row([i,\"%.5f\" % xl,\"%.5g\" % func(xl),\"%.5f\" % xu,\"%.5g\" % func(xu),\"%.5f\" % xm,\"%.6g\" % func(xm),\"%.5f\" % (e_a*100)])\n",
    "    \n",
    "    print(tab)\n"
   ]
  },
  {
   "cell_type": "code",
   "execution_count": 145,
   "metadata": {},
   "outputs": [
    {
     "output_type": "stream",
     "name": "stdout",
     "text": [
      "f(xl)*f(xu) > 0 \n"
     ]
    }
   ],
   "source": [
    "falseposition_method(math_expr,u,v,it,dig)"
   ]
  },
  {
   "cell_type": "code",
   "execution_count": 174,
   "metadata": {},
   "outputs": [
    {
     "output_type": "stream",
     "name": "stdout",
     "text": [
      "+------+----------+-------+----------+-------------+----------+--------------+----------+\n| Iter |    xl    | f(xl) |    xu    |    f(xu)    |    xm    |    f(xm)     |  |ε_a|%  |\n+------+----------+-------+----------+-------------+----------+--------------+----------+\n|  1   | -1.00000 |  433  | 0.00000  |      -9     | -0.02036 |   -4.49638   |   None   |\n|  2   | -1.00000 |  433  | -0.02036 |   -4.4964   | -0.03043 |   -2.26689   | 33.08634 |\n|  3   | -1.00000 |  433  | -0.03043 |   -2.2669   | -0.03548 |   -1.14807   | 14.23222 |\n|  4   | -1.00000 |  433  | -0.03548 |   -1.1481   | -0.03803 |  -0.582771   | 6.70674  |\n|  5   | -1.00000 |  433  | -0.03803 |   -0.58277  | -0.03932 |  -0.296161   | 3.28803  |\n|  6   | -1.00000 |  433  | -0.03932 |   -0.29616  | -0.03998 |  -0.150595   | 1.64239  |\n|  7   | -1.00000 |  433  | -0.03998 |   -0.1506   | -0.04031 |  -0.0765991  | 0.82794  |\n|  8   | -1.00000 |  433  | -0.04031 |  -0.076599  | -0.04048 |  -0.0389675  | 0.41929  |\n|  9   | -1.00000 |  433  | -0.04048 |  -0.038967  | -0.04057 |  -0.019825   | 0.21283  |\n|  10  | -1.00000 |  433  | -0.04057 |  -0.019825  | -0.04061 |  -0.0100865  | 0.10815  |\n|  11  | -1.00000 |  433  | -0.04061 |  -0.010087  | -0.04064 | -0.00513192  | 0.05500  |\n|  12  | -1.00000 |  433  | -0.04064 |  -0.0051319 | -0.04065 | -0.00261109  | 0.02797  |\n|  13  | -1.00000 |  433  | -0.04065 |  -0.0026111 | -0.04065 | -0.00132851  | 0.01423  |\n|  14  | -1.00000 |  433  | -0.04065 |  -0.0013285 | -0.04066 | -0.000675943 | 0.00724  |\n|  15  | -1.00000 |  433  | -0.04066 | -0.00067594 | -0.04066 | -0.000343918 | 0.00368  |\n+------+----------+-------+----------+-------------+----------+--------------+----------+\n"
     ]
    }
   ],
   "source": [
    "def math_expr(x):\n",
    "    #return 40*x**1.5-875*x+35000\n",
    "    return 230*x**4+18*x**3+9*x**2-221*x-9\n",
    "    #return x**3 - 0.165*x**2 + 3.993e-4\n",
    "    #return (x-1)**3 + .512\n",
    "\n",
    "\n",
    "dig = 4\n",
    "u = -1\n",
    "v = 0\n",
    "it = 50\n",
    "#u,v,it,dig\n",
    "#x 3 − 0.165x 2 + 3.993×10−4 = 0\n",
    "#newtonraphson_method(math_expr,300,it,dig)\n",
    "falseposition_method(math_expr,-1,0,it,dig)"
   ]
  },
  {
   "cell_type": "code",
   "execution_count": null,
   "metadata": {},
   "outputs": [],
   "source": []
  }
 ]
}