{
 "metadata": {
  "language_info": {
   "codemirror_mode": {
    "name": "ipython",
    "version": 3
   },
   "file_extension": ".py",
   "mimetype": "text/x-python",
   "name": "python",
   "nbconvert_exporter": "python",
   "pygments_lexer": "ipython3",
   "version": "3.8.3-final"
  },
  "orig_nbformat": 2,
  "kernelspec": {
   "name": "python3",
   "display_name": "Python 3"
  }
 },
 "nbformat": 4,
 "nbformat_minor": 2,
 "cells": [
  {
   "cell_type": "code",
   "execution_count": 77,
   "metadata": {},
   "outputs": [],
   "source": [
    "import numpy as np\n",
    "import math\n",
    "from prettytable import PrettyTable"
   ]
  },
  {
   "cell_type": "code",
   "execution_count": 75,
   "metadata": {},
   "outputs": [],
   "source": [
    "data = \"\"\"0.698132 0.188224\n",
    "0.959931 0.209138\n",
    "1.134464 0.230052\n",
    "1.570796 0.250965\n",
    "1.919862 0.313707\"\"\"\n",
    "d2 = \"\"\"0 1 3 5 7 9\n",
    "1.000 0.891 0.708 0.562 0.447 0.355\"\"\"\n",
    "\n",
    "data = \"\"\" \"\"\""
   ]
  },
  {
   "cell_type": "code",
   "execution_count": 105,
   "metadata": {},
   "outputs": [
    {
     "output_type": "stream",
     "name": "stdout",
     "text": [
      "+----------+------------------------+----------+-------------------------+-----------+------------------------+\n|    X'    |           Y'           |    X     |            Y            |    X^2    |           XY           |\n+----------+------------------------+----------+-------------------------+-----------+------------------------+\n|   0.0    |          1.0           |   0.0    |           0.0           |    0.0    |          0.0           |\n|   1.0    |         0.891          |   1.0    |   -0.11541085151132773  |    1.0    |  -0.11541085151132773  |\n|   3.0    |         0.708          |   3.0    |   -0.34531118528841737  |    9.0    |   -1.035933555865252   |\n|   5.0    |         0.562          |   5.0    |   -0.5762534290884459   |    25.0   |  -2.8812671454422296   |\n|   7.0    |         0.447          |   7.0    |   -0.8051966843685682   |    49.0   |   -5.636376790579977   |\n|   9.0    |         0.355          |   9.0    |   -1.0356374895067213   |    81.0   |   -9.320737405560491   |\n| -------  |        -------         | -------  |         -------         |  -------  |        -------         |\n| Σ = 25.0 | Σ = 3.9630000000000005 | Σ = 25.0 | Σ = -2.8778096397634805 | Σ = 165.0 | Σ = -18.98972574895928 |\n+----------+------------------------+----------+-------------------------+-----------+------------------------+\nUnprocessed A B\n [[-0.0002615 ]\n [-0.11504963]]\nX is [[1. 0.]\n [1. 1.]\n [1. 3.]\n [1. 5.]\n [1. 7.]\n [1. 9.]]\nFinal ans a0 a1 0.9997385360041293 -0.11504962602648947\n"
     ]
    }
   ],
   "source": [
    "def data_extract(data):\n",
    "    data = data.replace('×10','e')\n",
    "    data = data.replace('−','-')\n",
    "\n",
    "    data = data.split(\"\\n\")\n",
    "    dim = len(data)\n",
    "    for i in range(dim):\n",
    "        data[i] = data[i].split(' ')\n",
    "        data[i] = [float(x) for x in data[i]]\n",
    "    \n",
    "    data = np.array(data)\n",
    "    data = data.T if data.shape[0]<data.shape[1] else data\n",
    "    return data\n",
    "\n",
    "def lin_reg_data(data):\n",
    "    data = data_extract(data)\n",
    "    # x = np.reshape(data[:,0],(data[:,0].shape[0],1))\n",
    "    # y = np.reshape(data[:,1],(data[:,1].shape[0],1))\n",
    "    x = np.array([data[:,0]]).T\n",
    "    y = np.array([data[:,1]]).T\n",
    "    ###################################################################\n",
    "    x = x\n",
    "    #x = np.log(x)\n",
    "    #x = np.pow(x,-1)\n",
    "    \n",
    "    #y = y\n",
    "    y = np.log(y)\n",
    "    #y = np.pow(y,-1)\n",
    "    ###################################################################\n",
    "    data = np.append(data,x,axis=1)\n",
    "    data = np.append(data,y,axis=1)\n",
    "    data = np.append(data,x**2,axis=1)\n",
    "    data = np.append(data,x*y,axis=1)\n",
    "    \n",
    "    tab = PrettyTable()\n",
    "    tab.field_names = [\"X'\",\"Y'\",'X','Y','X^2','XY']\n",
    "    [tab.add_row(data[i,:]) for i in range(data.shape[0])]\n",
    "\n",
    "    tab.add_row(['-'*7]*6)\n",
    "    tab.add_row([f\"Σ = {np.sum(data[:,i])}\" for i in range(data.shape[1])])\n",
    "\n",
    "    print(tab)\n",
    "\n",
    "    X = np.ones(x.shape)\n",
    "    X = [np.append(X,x**i,axis = 1) for i in range(1,2)][0]\n",
    "\n",
    "    SS = np.linalg.inv(X.T@X)@X.T@y\n",
    "    print(\"Unprocessed A B\\n\",SS)\n",
    "\n",
    "\n",
    "    print(\"X is\",X)\n",
    "\n",
    "    #######################\n",
    "    #A = SS[0]\n",
    "    A = math.exp(SS[0])\n",
    "    #A = 1/SS[0,0]\n",
    "\n",
    "    B = SS[1,0]\n",
    "    #B = B/A\n",
    "    print(\"Final ans a0 a1\",A,B)\n",
    "    #######################\n",
    "\n",
    "lin_reg_data(d2)\n"
   ]
  },
  {
   "cell_type": "code",
   "execution_count": 101,
   "metadata": {},
   "outputs": [],
   "source": [
    "def polly_reg(data,order=2):\n",
    "    data = data_extract(data)\n",
    "    # x = np.reshape(data[:,0],(data[:,0].shape[0],1))\n",
    "    # y = np.reshape(data[:,1],(data[:,1].shape[0],1))\n",
    "    x = np.array([data[:,0]]).T\n",
    "    y = np.array([data[:,1]]).T\n",
    "\n",
    "    data = np.append(data,x**2,axis=1)\n",
    "    data = np.append(data,x**3,axis=1)\n",
    "    data = np.append(data,x**4,axis=1)\n",
    "\n",
    "    data = np.append(data,y*x,axis=1)\n",
    "    data = np.append(data,y*x**2,axis=1)\n",
    "\n",
    "    data = np.around(data,decimals=10)\n",
    "\n",
    "    tab = PrettyTable()\n",
    "    tab.field_names = [\"X\",\"Y\",'X^2','X^3','X^4','YX','YX^2']\n",
    "    [tab.add_row(data[i,:]) for i in range(data.shape[0])]\n",
    "\n",
    "    tab.add_row(['-'*7]*7)\n",
    "    tab.add_row([f\"Σ = {np.sum(data[:,i])}\" for i in range(data.shape[1])])\n",
    "\n",
    "    print(tab)\n",
    "\n",
    "    n = len(x)\n",
    "    M = np.zeros((order+1, order+1))\n",
    "    M[0][0] = n\n",
    "    b = np.zeros((order+1, 1))\n",
    "\n",
    "    for i in range(order+1):\n",
    "        if(i == 0):\n",
    "            b[i][0] = np.sum(y)\n",
    "        else:\n",
    "            b[i][0] = np.sum(np.power(x, i) * y)\n",
    "\n",
    "\n",
    "    for i in range(order+1):\n",
    "        for j in range(order+1):\n",
    "            if(i+j == 0):\n",
    "                M[i][j] = n\n",
    "            else:\n",
    "                M[i][j] = np.sum(np.power(x, i+j))\n",
    "    \n",
    "    A = np.dot(np.linalg.inv(M), b)\n",
    "    print(A)\n",
    "\n",
    "\n"
   ]
  },
  {
   "cell_type": "code",
   "execution_count": 102,
   "metadata": {},
   "outputs": [
    {
     "output_type": "stream",
     "name": "stdout",
     "text": [
      "+------------+--------------+--------------+-----------------+-------------------+----------------+------------------------+\n|     X      |      Y       |     X^2      |       X^3       |        X^4        |       YX       |          YX^2          |\n+------------+--------------+--------------+-----------------+-------------------+----------------+------------------------+\n|    80.0    |   6.47e-06   |    6400.0    |     512000.0    |     40960000.0    |   0.0005176    |        0.041408        |\n|    40.0    |   6.24e-06   |    1600.0    |     64000.0     |     2560000.0     |   0.0002496    |        0.009984        |\n|   -40.0    |   5.72e-06   |    1600.0    |     -64000.0    |     2560000.0     |   -0.0002288   |        0.009152        |\n|   -120.0   |   5.09e-06   |   14400.0    |    -1728000.0   |    207360000.0    |   -0.0006108   |        0.073296        |\n|   -200.0   |   4.3e-06    |   40000.0    |    -8000000.0   |    1600000000.0   |    -0.00086    |         0.172          |\n|   -280.0   |   3.33e-06   |   78400.0    |   -21952000.0   |    6146560000.0   |   -0.0009324   |        0.261072        |\n|   -340.0   |   2.45e-06   |   115600.0   |   -39304000.0   |   13363360000.0   |   -0.000833    |        0.28322         |\n|  -------   |   -------    |   -------    |     -------     |      -------      |    -------     |        -------         |\n| Σ = -860.0 | Σ = 3.36e-05 | Σ = 258000.0 | Σ = -70472000.0 | Σ = 21363360000.0 | Σ = -0.0026978 | Σ = 0.8501320000000001 |\n+------------+--------------+--------------+-----------------+-------------------+----------------+------------------------+\n[[ 6.02163436e-06]\n [ 6.27898860e-09]\n [-1.22151562e-11]]\n"
     ]
    }
   ],
   "source": [
    "data = \"\"\"80 6.47×10−6\n",
    "40 6.24×10−6\n",
    "-40 5.72×10−6\n",
    "-120 5.09×10−6\n",
    "-200 4.30×10−6\n",
    "-280 3.33×10−6\n",
    "-340 2.45×10−6\"\"\"\n",
    "\n",
    "polly_reg(data)"
   ]
  },
  {
   "cell_type": "code",
   "execution_count": null,
   "metadata": {},
   "outputs": [],
   "source": []
  }
 ]
}