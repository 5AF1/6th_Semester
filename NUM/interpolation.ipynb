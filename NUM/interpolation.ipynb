{
 "metadata": {
  "language_info": {
   "codemirror_mode": {
    "name": "ipython",
    "version": 3
   },
   "file_extension": ".py",
   "mimetype": "text/x-python",
   "name": "python",
   "nbconvert_exporter": "python",
   "pygments_lexer": "ipython3",
   "version": "3.8.3-final"
  },
  "orig_nbformat": 2,
  "kernelspec": {
   "name": "python3",
   "display_name": "Python 3"
  }
 },
 "nbformat": 4,
 "nbformat_minor": 2,
 "cells": [
  {
   "cell_type": "code",
   "execution_count": 23,
   "metadata": {},
   "outputs": [],
   "source": [
    "import numpy as np\n",
    "import math\n",
    "from prettytable import PrettyTable"
   ]
  },
  {
   "cell_type": "code",
   "execution_count": 17,
   "metadata": {},
   "outputs": [],
   "source": [
    "#Data\n",
    "#X = np.array([0,10,15,20,22.5,30])\n",
    "#Y = np.array([0,227.04,362.78,517.35,602.97,901.67])\n",
    "data = \"\"\"0 0\n",
    "10 227.04\n",
    "15 362.78\n",
    "20 517.35\n",
    "22.5 602.97\n",
    "30 901.67\"\"\"\n",
    "\n",
    "dig = 4"
   ]
  },
  {
   "cell_type": "code",
   "execution_count": 22,
   "metadata": {},
   "outputs": [],
   "source": [
    "def data_extract(data):\n",
    "    data = data.replace('×10','e')\n",
    "    data = data.replace('−','-')\n",
    "\n",
    "    data = data.split(\"\\n\")\n",
    "    dim = len(data)\n",
    "    for i in range(dim):\n",
    "        data[i] = data[i].split(' ')\n",
    "        data[i] = [float(x) for x in data[i]]\n",
    "    \n",
    "    data = np.array(data)\n",
    "    data = data.T if data.shape[0]<data.shape[1] else data\n",
    "    return data"
   ]
  },
  {
   "cell_type": "code",
   "execution_count": 12,
   "metadata": {},
   "outputs": [],
   "source": [
    "data = data_extract(data)\n",
    "X = data[:,0]\n",
    "Y = data[:,1]"
   ]
  },
  {
   "cell_type": "code",
   "execution_count": 15,
   "metadata": {},
   "outputs": [
    {
     "output_type": "stream",
     "name": "stdout",
     "text": [
      "[[  1.  15. 225.]\n [  1.  20. 400.]\n [  1.  10. 100.]]\nf(t) = (0.3766000000000025) * t**2 + (17.733000000000004) * t**1 + (12.0499999999995)\n392.1876000000002\n"
     ]
    }
   ],
   "source": [
    "def direct_interpolate(X,Y,x = 0, order = 1):\n",
    "    n = order+1\n",
    "    diff = abs(x-X)\n",
    "    diff = list(enumerate(diff))\n",
    "    diff.sort(key = lambda x: x[1])\n",
    "    TX = []\n",
    "    TY = []\n",
    "    for i in range(n):\n",
    "        TX.append(X[diff[i][0]])\n",
    "        TY.append(Y[diff[i][0]])\n",
    "    TX = np.reshape(np.array(TX),(n,1))\n",
    "    TY = np.reshape(np.array(TY),(n,1))\n",
    "\n",
    "    XX = np.ones((n,1))\n",
    "    for i in range(1,n):\n",
    "        XX = np.append(XX,TX**i,axis=1)\n",
    "\n",
    "    \n",
    "    print(XX)\n",
    "\n",
    "\n",
    "    a = np.dot(np.linalg.inv(XX),TY)\n",
    "\n",
    "\n",
    "    math_expression = 'f(t) = '\n",
    "    for i in range(order,-1,-1):\n",
    "        math_expression += f'({a[i][0]}) * t**{i} + ' if i != 0 else f'({a[i][0]})'\n",
    "\n",
    "    def func(t):\n",
    "        y=0\n",
    "        for i in range(order+1):\n",
    "            y += a[i][0]* t**i\n",
    "        return y\n",
    "    y = func\n",
    "    return y,math_expression\n",
    "\n",
    "    \n",
    "f,s = direct_interpolate(X,Y,x=16,order=2)\n",
    "print(s)\n",
    "print(f(16))"
   ]
  },
  {
   "cell_type": "code",
   "execution_count": 21,
   "metadata": {},
   "outputs": [
    {
     "output_type": "stream",
     "name": "stdout",
     "text": [
      "[[2.27040000e+02 3.62780000e+02 5.17350000e+02 6.02970000e+02]\n [2.71480000e+01 3.09140000e+01 4.28100000e+01 0.00000000e+00]\n [3.76600000e-01 1.69942857e+00 0.00000000e+00 0.00000000e+00]\n [1.10235714e-01 0.00000000e+00 0.00000000e+00 0.00000000e+00]]\nf(t) = (0.1102357142857141)(t - 10.0)(t - 15.0)(t - 20.0)+\n(0.37660000000000127)(t - 10.0)(t - 15.0)+\n(27.147999999999996)(t - 10.0)+\n(227.04)\n389.5419428571429\n"
     ]
    }
   ],
   "source": [
    "def ndd(X,Y,x = 0, order = 1):\n",
    "    n = order+1\n",
    "    diff = abs(x-X)\n",
    "    diff = list(enumerate(diff))\n",
    "    diff.sort(key = lambda x: x[1])\n",
    "    TX = []\n",
    "    TY = {}\n",
    "    for i in range(n):\n",
    "        #if X[i] in \n",
    "        TX.append(X[diff[i][0]])\n",
    "        TY[X[diff[i][0]]] = Y[diff[i][0]]\n",
    "    \n",
    "    TX.sort()\n",
    "    TX = np.reshape(np.array(TX),(n,1))\n",
    "    #TY = np.reshape(np.array(TY),(n,1))\n",
    "    B = np.zeros((n,n))\n",
    "\n",
    "    for i in range(n):\n",
    "        for j in range(n-i):\n",
    "            if i == 0:\n",
    "                B[i,j] = TY[TX[j][0]]\n",
    "            else:\n",
    "                B[i,j] = (B[i-1,j]-B[i-1,j+1])/(TX[j][0]-TX[j+i][0])\n",
    "\n",
    "    \n",
    "    print(B)\n",
    "\n",
    "    math_expression = 'f(t) = '\n",
    "    for i in range(order,-1,-1):\n",
    "        math_expression += f'({B[i][0]})'\n",
    "        for j in range (i):\n",
    "            math_expression += f'(t - {TX[j][0]})'\n",
    "        if i != 0:\n",
    "             math_expression += '+\\n'\n",
    "\n",
    "    def func(t):\n",
    "        y=0\n",
    "        for i in range(order+1):\n",
    "            s = B[i][0]\n",
    "            for j in range(i):\n",
    "                s *= (t - TX[j][0])\n",
    "            y += s\n",
    "        return y\n",
    "    y = func\n",
    "    \n",
    "    return y,math_expression\n",
    "\n",
    "\n",
    "f,s = ndd(X,Y,x=16,order=3)\n",
    "print(s)\n",
    "print(f(16))\n"
   ]
  },
  {
   "cell_type": "code",
   "execution_count": 20,
   "metadata": {},
   "outputs": [
    {
     "output_type": "stream",
     "name": "stdout",
     "text": [
      "f(t) = (517.35)(t - 10.0)/(20.0 - 10.0)(t - 15.0)/(20.0 - 15.0)+\n(362.78)(t - 10.0)/(15.0 - 10.0)(t - 20.0)/(15.0 - 20.0)+\n(227.04)(t - 15.0)/(10.0 - 15.0)(t - 20.0)/(10.0 - 20.0)\n392.1876\n"
     ]
    }
   ],
   "source": [
    "def lagrange(X,Y,x = 0, order = 1):\n",
    "    n = order+1\n",
    "    diff = abs(x-X)\n",
    "    diff = list(enumerate(diff))\n",
    "    diff.sort(key = lambda x: x[1])\n",
    "    TX = []\n",
    "    TY = {}\n",
    "    for i in range(n):\n",
    "        #if X[i] in \n",
    "        TX.append(X[diff[i][0]])\n",
    "        TY[X[diff[i][0]]] = Y[diff[i][0]]\n",
    "    \n",
    "    TX.sort()\n",
    "    TX = np.reshape(np.array(TX),(n,1))\n",
    "\n",
    "    math_expression = 'f(t) = '\n",
    "    for i in range(order,-1,-1):\n",
    "        math_expression += f'({TY[TX[i][0]]})'\n",
    "        for j in range (n):\n",
    "            if j == i:\n",
    "                continue\n",
    "            else:\n",
    "                math_expression += f'(t - {TX[j][0]})/({TX[i][0]} - {TX[j][0]})'\n",
    "        if i != 0:\n",
    "             math_expression += '+\\n'\n",
    "    \n",
    "\n",
    "    def func(t):\n",
    "        y=0\n",
    "        for i in range(n):\n",
    "            s = TY[TX[i][0]]\n",
    "            for j in range(n):\n",
    "                if j == i:\n",
    "                    continue\n",
    "                else:\n",
    "                    s *= ((t - TX[j][0])/(TX[i][0] - TX[j][0]))\n",
    "            y += s\n",
    "        return y\n",
    "    y = func\n",
    "\n",
    "    return y,math_expression\n",
    "\n",
    "\n",
    "f,s = lagrange(X,Y,x=16,order=2)\n",
    "print(s)\n",
    "print(f(16))\n",
    "    "
   ]
  },
  {
   "cell_type": "code",
   "execution_count": 28,
   "metadata": {},
   "outputs": [
    {
     "output_type": "stream",
     "name": "stdout",
     "text": [
      "f(t) = (29.31)(t - 10.0)/(20.0 - 10.0)(t - 13.0)/(20.0 - 13.0)(t - 17.0)/(20.0 - 17.0)+\n(30.1)(t - 10.0)/(17.0 - 10.0)(t - 13.0)/(17.0 - 13.0)(t - 20.0)/(17.0 - 20.0)+\n(37.33)(t - 10.0)/(13.0 - 10.0)(t - 17.0)/(13.0 - 17.0)(t - 20.0)/(13.0 - 20.0)+\n(42.67)(t - 13.0)/(10.0 - 13.0)(t - 17.0)/(10.0 - 17.0)(t - 20.0)/(10.0 - 20.0)\n33.281666666666666\n"
     ]
    }
   ],
   "source": [
    "data = \"\"\"0 0\n",
    "10 227.04\n",
    "15 362.78\n",
    "20 517.35\n",
    "22.5 602.97\n",
    "30 901.67\"\"\"\n",
    "data = \"\"\"0 6 10 13 17 20 28\n",
    "6.67 17.33 42.67 37.33 30.10 29.31 28.74\"\"\"\n",
    "\n",
    "data = data_extract(data)\n",
    "X = data[:,0]\n",
    "Y = data[:,1]\n",
    "\n",
    "f,s = lagrange(X,Y,x=15,order=3)\n",
    "print(s)\n",
    "print(f(15))"
   ]
  },
  {
   "cell_type": "code",
   "execution_count": null,
   "metadata": {},
   "outputs": [],
   "source": []
  }
 ]
}