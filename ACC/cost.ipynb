{
 "metadata": {
  "language_info": {
   "codemirror_mode": {
    "name": "ipython",
    "version": 3
   },
   "file_extension": ".py",
   "mimetype": "text/x-python",
   "name": "python",
   "nbconvert_exporter": "python",
   "pygments_lexer": "ipython3",
   "version": "3.8.3-final"
  },
  "orig_nbformat": 2,
  "kernelspec": {
   "name": "python3",
   "display_name": "Python 3.8.3 64-bit ('venv')",
   "metadata": {
    "interpreter": {
     "hash": "47480124c2d9f869eb284ef9aae1217f478d6e2008b12dff7b20bd9e0b2488c7"
    }
   }
  }
 },
 "nbformat": 4,
 "nbformat_minor": 2,
 "cells": [
  {
   "cell_type": "code",
   "execution_count": 2,
   "metadata": {},
   "outputs": [],
   "source": [
    "from prettytable import PrettyTable"
   ]
  },
  {
   "cell_type": "code",
   "execution_count": 257,
   "metadata": {},
   "outputs": [],
   "source": [
    "raw_mat_OS = 12500\n",
    "raw_mat_Purchases = 136000\n",
    "raw_mat_CS = 8500\n",
    "direct_wages = 54000\n",
    "direct_expenses = 12000\n",
    "factory_overheads = 100#% of direct_wages\n",
    "office_admin_overheads = 20 #% of works cost\n",
    "\n",
    "selling_distrib_overheads = 26000\n",
    "finished_goods_cost_OS = 12000\n",
    "finished_goods_cost_CS = 15000\n",
    "\n",
    "profit_on_cost  = 20#%"
   ]
  },
  {
   "cell_type": "code",
   "execution_count": 258,
   "metadata": {},
   "outputs": [],
   "source": [
    "factory_overheads = factory_overheads*direct_wages//100"
   ]
  },
  {
   "cell_type": "code",
   "execution_count": 220,
   "metadata": {},
   "outputs": [],
   "source": [
    "#Units\n",
    "selling_distrib_expenses = 3\n",
    "in_hand = 500\n",
    "produced = 12000\n",
    "in_the_end = 1500\n",
    "finished_goods_cost_OS = 12500\n",
    "\n",
    "total_cost_per_unit = work_cost//produced\n",
    "selling_distrib_overheads = selling_distrib_expenses*(produced+in_hand-in_the_end)\n",
    "finished_goods_cost_CS = in_the_end*total_cost_per_unit"
   ]
  },
  {
   "cell_type": "code",
   "execution_count": 229,
   "metadata": {},
   "outputs": [],
   "source": [
    "profit_on_cost = 100*profit_on_cost/(100-profit_on_cost)"
   ]
  },
  {
   "cell_type": "code",
   "execution_count": 259,
   "metadata": {},
   "outputs": [],
   "source": [
    "direct_material = raw_mat_Purchases+raw_mat_OS-raw_mat_CS\n",
    "prime_cost = direct_material+direct_wages+direct_expenses\n",
    "\n",
    "work_cost = prime_cost+factory_overheads\n",
    "office_admin_overheads = office_admin_overheads*work_cost//100\n",
    "\n",
    "total_cost_of_prod = office_admin_overheads+work_cost\n",
    "cost_of_goods_sold = finished_goods_cost_OS+total_cost_of_prod-finished_goods_cost_CS\n",
    "total_cost = cost_of_goods_sold+selling_distrib_overheads\n",
    "profit = total_cost*profit_on_cost//100\n",
    "sales = total_cost+profit\n",
    "\n",
    "\n",
    "tab = PrettyTable()\n",
    "tab.field_names = ['Particulars','Ammount1','Ammount']\n",
    "tab.align['Particulars'] = 'l'\n",
    "tab.add_row(['Opening Stock of raw materials',raw_mat_OS,''])\n",
    "tab.add_row(['Add: Purchases of raw materials',raw_mat_Purchases,''])\n",
    "tab.add_row(['','------',''])\n",
    "tab.add_row(['Material available for consumption',raw_mat_Purchases+raw_mat_OS,''])\n",
    "\n",
    "tab.add_row(['Less: Closing Stock of raw materials',f'({raw_mat_CS})',''])\n",
    "\n",
    "tab.add_row(['','------',''])\n",
    "tab.add_row(['Material consumed',direct_material,''])\n",
    "\n",
    "tab.add_row(['Add: Direct wages',direct_wages,''])\n",
    "tab.add_row(['Add: Direct expenses',direct_expenses,''])\n",
    "\n",
    "tab.add_row(['','------','------'])\n",
    "\n",
    "tab.add_row(['                          PRIME COST','',prime_cost])\n",
    "\n",
    "\n",
    "tab.add_row(['Add: Factory overheads','',factory_overheads])\n",
    "\n",
    "tab.add_row(['','','------'])\n",
    "\n",
    "tab.add_row(['                          WORK COST','',work_cost])\n",
    "\n",
    "\n",
    "tab.add_row(['Add: Office Admin overheads','',office_admin_overheads])\n",
    "\n",
    "tab.add_row(['','','------'])\n",
    "\n",
    "tab.add_row(['              TOTAL COST OF PRODUCTION','',total_cost_of_prod])\n",
    "\n",
    "tab.add_row(['Add: Opening Stock of finished goods','',finished_goods_cost_OS])\n",
    "tab.add_row(['','','------'])\n",
    "tab.add_row(['Cost of goods available for sale','',finished_goods_cost_OS+total_cost_of_prod])\n",
    "tab.add_row(['Less: Closing Stock of finished goods','',f'({finished_goods_cost_CS})'])\n",
    "\n",
    "tab.add_row(['','','------'])\n",
    "\n",
    "tab.add_row(['                   COST OF GOODS SOLD','',cost_of_goods_sold])\n",
    "\n",
    "tab.add_row(['Add: Selling and distribution overheads','',selling_distrib_overheads])\n",
    "\n",
    "tab.add_row(['','','------'])\n",
    "\n",
    "tab.add_row(['                          TOTAL COST','',total_cost])\n",
    "\n",
    "\n",
    "tab.add_row(['Add: Profit','',profit])\n",
    "\n",
    "tab.add_row(['','','------'])\n",
    "\n",
    "tab.add_row(['                          SALES','',sales])"
   ]
  },
  {
   "cell_type": "code",
   "execution_count": 260,
   "metadata": {},
   "outputs": [
    {
     "output_type": "stream",
     "name": "stdout",
     "text": [
      "+-----------------------------------------+----------+---------+\n| Particulars                             | Ammount1 | Ammount |\n+-----------------------------------------+----------+---------+\n| Opening Stock of raw materials          |  12500   |         |\n| Add: Purchases of raw materials         |  136000  |         |\n|                                         |  ------  |         |\n| Material available for consumption      |  148500  |         |\n| Less: Closing Stock of raw materials    |  (8500)  |         |\n|                                         |  ------  |         |\n| Material consumed                       |  140000  |         |\n| Add: Direct wages                       |  54000   |         |\n| Add: Direct expenses                    |  12000   |         |\n|                                         |  ------  |  ------ |\n|                           PRIME COST    |          |  206000 |\n| Add: Factory overheads                  |          |  54000  |\n|                                         |          |  ------ |\n|                           WORK COST     |          |  260000 |\n| Add: Office Admin overheads             |          |  52000  |\n|                                         |          |  ------ |\n|               TOTAL COST OF PRODUCTION  |          |  312000 |\n| Add: Opening Stock of finished goods    |          |  12000  |\n|                                         |          |  ------ |\n| Cost of goods available for sale        |          |  324000 |\n| Less: Closing Stock of finished goods   |          | (15000) |\n|                                         |          |  ------ |\n|                    COST OF GOODS SOLD   |          |  309000 |\n| Add: Selling and distribution overheads |          |  26000  |\n|                                         |          |  ------ |\n|                           TOTAL COST    |          |  335000 |\n| Add: Profit                             |          |  67000  |\n|                                         |          |  ------ |\n|                           SALES         |          |  402000 |\n+-----------------------------------------+----------+---------+\n"
     ]
    }
   ],
   "source": [
    "print(tab)"
   ]
  },
  {
   "cell_type": "code",
   "execution_count": 218,
   "metadata": {},
   "outputs": [],
   "source": [
    "raw_mat_OS = 20000\n",
    "raw_mat_Purchases = 122000\n",
    "raw_mat_CS = 10000\n",
    "direct_wages = 36000\n",
    "direct_expenses = 24000\n",
    "factory_overheads = 50#% of direct_wages\n",
    "office_admin_overheads = 20 #% of works cost\n",
    "\n",
    "\n",
    "\n",
    "profit_on_cost  = 20#%"
   ]
  },
  {
   "cell_type": "code",
   "execution_count": 253,
   "metadata": {},
   "outputs": [],
   "source": [
    "raw_mat_OS = 00\n",
    "raw_mat_Purchases = 160000\n",
    "raw_mat_CS = 00\n",
    "direct_wages = 45000\n",
    "direct_expenses = 15000\n",
    "factory_overheads = 35000#% of direct_wages\n",
    "office_admin_overheads = 20 #% of works cost\n",
    "\n",
    "selling_distrib_overheads = 45000\n",
    "finished_goods_cost_OS = 25000\n",
    "finished_goods_cost_CS = 10000\n",
    "\n",
    "profit_on_cost  = 11.2#%"
   ]
  }
 ]
}